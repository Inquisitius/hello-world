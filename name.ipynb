{
 "cells": [
  {
   "cell_type": "code",
   "execution_count": 7,
   "metadata": {},
   "outputs": [
    {
     "name": "stdin",
     "output_type": "stream",
     "text": [
      "What is your name?\n",
      " Titus Kurian\n",
      "Enter a number that you would like to square: \n",
      " 4.5\n"
     ]
    },
    {
     "name": "stdout",
     "output_type": "stream",
     "text": [
      "Titus Kurian, the square of 4.5 is: \n",
      "20.25\n"
     ]
    }
   ],
   "source": [
    "name = input('What is your name?\\n')\n",
    "\n",
    "square_int = input(\"Enter a number that you would like to square: \\n\")\n",
    "\n",
    "print(str(name) + \", \" + \"the square of \" + str(square_int) + \" is: \")\n",
    "print(float(square_int) * float(square_int))"
   ]
  },
  {
   "cell_type": "code",
   "execution_count": null,
   "metadata": {},
   "outputs": [],
   "source": []
  }
 ],
 "metadata": {
  "kernelspec": {
   "display_name": "Python 3",
   "language": "python",
   "name": "python3"
  },
  "language_info": {
   "codemirror_mode": {
    "name": "ipython",
    "version": 3
   },
   "file_extension": ".py",
   "mimetype": "text/x-python",
   "name": "python",
   "nbconvert_exporter": "python",
   "pygments_lexer": "ipython3",
   "version": "3.8.3"
  }
 },
 "nbformat": 4,
 "nbformat_minor": 4
}
